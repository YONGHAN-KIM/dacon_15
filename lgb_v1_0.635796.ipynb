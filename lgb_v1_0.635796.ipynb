{
 "cells": [
  {
   "cell_type": "code",
   "execution_count": null,
   "metadata": {
    "ExecuteTime": {
     "end_time": "2020-01-27T08:44:17.058593Z",
     "start_time": "2020-01-27T08:44:16.485902Z"
    }
   },
   "outputs": [],
   "source": [
    "import os\n",
    "import pandas as pd \n",
    "import numpy as np\n",
    "import multiprocessing \n",
    "from multiprocessing import Pool \n",
    "from functools import partial \n",
    "from data_loader import data_loader_v2 \n",
    "\n",
    "from sklearn.ensemble import RandomForestClassifier\n",
    "import joblib \n",
    "from datetime import datetime\n",
    "\n",
    "import lightgbm as lgb\n"
   ]
  },
  {
   "cell_type": "code",
   "execution_count": null,
   "metadata": {
    "ExecuteTime": {
     "end_time": "2020-01-27T08:44:17.061134Z",
     "start_time": "2020-01-27T08:44:17.059487Z"
    }
   },
   "outputs": [],
   "source": [
    "train_folder = 'data/train/'\n",
    "test_folder = 'data/test/'\n",
    "train_label_path = 'data/train_label.csv'"
   ]
  },
  {
   "cell_type": "code",
   "execution_count": null,
   "metadata": {
    "ExecuteTime": {
     "end_time": "2020-01-27T08:44:17.074632Z",
     "start_time": "2020-01-27T08:44:17.062457Z"
    }
   },
   "outputs": [],
   "source": [
    "train_list = os.listdir(train_folder)\n",
    "test_list = os.listdir(test_folder)\n",
    "train_label = pd.read_csv(train_label_path, index_col=0)"
   ]
  },
  {
   "cell_type": "code",
   "execution_count": null,
   "metadata": {
    "ExecuteTime": {
     "end_time": "2020-01-27T08:44:17.078623Z",
     "start_time": "2020-01-27T08:44:17.076046Z"
    }
   },
   "outputs": [],
   "source": [
    "num_class = len(train_label['label'].unique())"
   ]
  },
  {
   "cell_type": "code",
   "execution_count": null,
   "metadata": {
    "ExecuteTime": {
     "end_time": "2020-01-27T08:44:17.084732Z",
     "start_time": "2020-01-27T08:44:17.079645Z"
    }
   },
   "outputs": [],
   "source": [
    "# 모든 csv 파일의 상태_B로 변화는 시점이 같다라고 가정\n",
    "# 하지만, 개별 csv파일의 상태_B로 변화는 시점은 상이할 수 있음\n",
    "def data_loader_all_v2(func, files, folder='', train_label=None, event_time=10, nrows=60):   \n",
    "    func_fixed = partial(func, folder=folder, train_label=train_label, event_time=event_time, nrows=nrows)     \n",
    "    if __name__ == '__main__':\n",
    "        pool = Pool(processes=multiprocessing.cpu_count()) \n",
    "        df_list = list(pool.imap(func_fixed, files)) \n",
    "        pool.close()\n",
    "        pool.join()        \n",
    "    combined_df = pd.concat(df_list)    \n",
    "    return combined_df"
   ]
  },
  {
   "cell_type": "code",
   "execution_count": null,
   "metadata": {
    "ExecuteTime": {
     "end_time": "2020-01-27T08:46:44.415311Z",
     "start_time": "2020-01-27T08:44:17.085826Z"
    }
   },
   "outputs": [],
   "source": [
    "train = data_loader_all_v2(data_loader_v2, train_list, folder=train_folder, train_label=train_label, \n",
    "                           event_time=10, nrows=120)\n"
   ]
  },
  {
   "cell_type": "code",
   "execution_count": null,
   "metadata": {
    "ExecuteTime": {
     "end_time": "2020-01-27T08:46:46.250769Z",
     "start_time": "2020-01-27T08:46:44.416270Z"
    }
   },
   "outputs": [],
   "source": [
    "X_train = train.drop(['label'], axis=1)\n",
    "y_train = train['label']\n",
    "X_train.shape"
   ]
  },
  {
   "cell_type": "code",
   "execution_count": null,
   "metadata": {
    "ExecuteTime": {
     "end_time": "2020-01-27T17:32:19.552401Z",
     "start_time": "2020-01-27T17:32:19.545783Z"
    }
   },
   "outputs": [],
   "source": [
    "model_ts = datetime.now().strftime('%Y%m%dT%H%M%S')\n",
    "print('model_ts', model_ts)\n",
    "\n",
    "initscore_filename = ''\n",
    "params = {\n",
    "#     'boosting':'gbdt',\n",
    "#     'boosting':'dart',\n",
    "#     'boosting':'goss',\n",
    "    'num_leaves': 5, \n",
    "    'max_depth': 3,\n",
    "    'num_class':num_class,\n",
    "    'objective': 'multiclass',\n",
    "    'metric':'multi_logloss',\n",
    "    'num_threads': 14,\n",
    "    'learning_rate': 0.01,\n",
    "    'is_unbalance': True,\n",
    "#     'scale_pos_weight':200,\n",
    "    'bagging_fraction':0.1,\n",
    "    'bagging_freq':10,\n",
    "    'feature_fraction':0.1,\n",
    "    'initscore_filename':initscore_filename,\n",
    "#     'lambda_l1':200,\n",
    "#     'lambda_l2':5,\n",
    "#     'device_type':'gpu',\n",
    "#     'tree_learner':'data',\n",
    "\n",
    "}\n",
    "print(params)\n",
    "\n",
    "data_params = {\n",
    "    'max_bin':127,\n",
    "#     'enable_bundle': False,\n",
    "}\n",
    "print(data_params)\n",
    "\n",
    "num_round = 500\n",
    "print('num_round:', num_round)"
   ]
  },
  {
   "cell_type": "code",
   "execution_count": null,
   "metadata": {
    "ExecuteTime": {
     "end_time": "2020-01-27T21:26:48.484195Z",
     "start_time": "2020-01-27T17:44:41.827637Z"
    }
   },
   "outputs": [],
   "source": [
    "train_set = lgb.Dataset(X_train, label=y_train, params=data_params)\n",
    "\n",
    "evals_result = {}\n",
    "model = lgb.train(params, train_set, num_round, early_stopping_rounds=300, \n",
    "                        valid_sets=[train_set],\n",
    "                        verbose_eval=50,\n",
    "                          evals_result=evals_result,\n",
    "                        init_model=model,\n",
    "                       )\n",
    "\n",
    "evals_result['training']['multi_logloss'][-1]"
   ]
  },
  {
   "cell_type": "code",
   "execution_count": null,
   "metadata": {
    "ExecuteTime": {
     "end_time": "2020-01-27T21:26:48.484195Z",
     "start_time": "2020-01-27T17:44:41.827637Z"
    }
   },
   "outputs": [],
   "source": [
    "model_tag ='{}_{}'.format(datetime.now().strftime('%Y%m%dT%H%M%S'), evals_result['training']['multi_logloss'][-1])\n",
    "print(model_tag)\n",
    "\n",
    "joblib.dump(model, 'model/{}.model'.format(model_tag))"
   ]
  },
  {
   "cell_type": "code",
   "execution_count": null,
   "metadata": {
    "ExecuteTime": {
     "end_time": "2020-01-27T21:26:48.484195Z",
     "start_time": "2020-01-27T17:44:41.827637Z"
    }
   },
   "outputs": [],
   "source": [
    "test = data_loader_all_v2(data_loader_v2, test_list, folder=test_folder, train_label=None, event_time=10, nrows=None)\n",
    "\n",
    "pred = model.predict(test)"
   ]
  },
  {
   "cell_type": "code",
   "execution_count": null,
   "metadata": {
    "ExecuteTime": {
     "end_time": "2020-01-27T21:26:48.484195Z",
     "start_time": "2020-01-27T17:44:41.827637Z"
    },
    "scrolled": false
   },
   "outputs": [],
   "source": [
    "submission = pd.DataFrame(data=pred)\n",
    "submission.index = test.index\n",
    "submission.index.name = 'id'\n",
    "submission = submission.sort_index()\n",
    "submission = submission.groupby('id').mean()\n",
    "\n",
    "submission.to_csv('submit/{}.csv'.format(model_tag), index=True) \n",
    "model_tag"
   ]
  },
  {
   "cell_type": "code",
   "execution_count": null,
   "metadata": {},
   "outputs": [],
   "source": []
  }
 ],
 "metadata": {
  "kernelspec": {
   "display_name": "Python 3",
   "language": "python",
   "name": "python3"
  },
  "language_info": {
   "codemirror_mode": {
    "name": "ipython",
    "version": 3
   },
   "file_extension": ".py",
   "mimetype": "text/x-python",
   "name": "python",
   "nbconvert_exporter": "python",
   "pygments_lexer": "ipython3",
   "version": "3.7.4"
  },
  "toc": {
   "base_numbering": 1,
   "nav_menu": {},
   "number_sections": true,
   "sideBar": true,
   "skip_h1_title": false,
   "title_cell": "Table of Contents",
   "title_sidebar": "Contents",
   "toc_cell": false,
   "toc_position": {},
   "toc_section_display": true,
   "toc_window_display": false
  }
 },
 "nbformat": 4,
 "nbformat_minor": 2
}
