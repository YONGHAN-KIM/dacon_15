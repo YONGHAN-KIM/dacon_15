{
 "cells": [
  {
   "cell_type": "code",
   "execution_count": 1,
   "metadata": {
    "ExecuteTime": {
     "end_time": "2020-01-27T08:44:17.058593Z",
     "start_time": "2020-01-27T08:44:16.485902Z"
    }
   },
   "outputs": [],
   "source": [
    "import os\n",
    "import pandas as pd \n",
    "import numpy as np\n",
    "import multiprocessing # 여러 개의 일꾼 (cpu)들에게 작업을 분산시키는 역할\n",
    "from multiprocessing import Pool \n",
    "from functools import partial # 함수가 받는 인자들 중 몇개를 고정 시켜서 새롭게 파생된 함수를 형성하는 역할\n",
    "from data_loader import data_loader_v2 # 자체적으로 만든 data loader version 2.0 ([데이콘 15회 대회] 데이터 설명 및 데이터 불러오기 영상 참조)\n",
    "\n",
    "from sklearn.ensemble import RandomForestClassifier\n",
    "import joblib # 모델을 저장하고 불러오는 역\n",
    "from datetime import datetime\n",
    "\n",
    "import lightgbm as lgb\n"
   ]
  },
  {
   "cell_type": "code",
   "execution_count": 2,
   "metadata": {
    "ExecuteTime": {
     "end_time": "2020-01-27T08:44:17.061134Z",
     "start_time": "2020-01-27T08:44:17.059487Z"
    }
   },
   "outputs": [],
   "source": [
    "train_folder = 'data/train/'\n",
    "test_folder = 'data/test/'\n",
    "train_label_path = 'data/train_label.csv'"
   ]
  },
  {
   "cell_type": "code",
   "execution_count": 3,
   "metadata": {
    "ExecuteTime": {
     "end_time": "2020-01-27T08:44:17.074632Z",
     "start_time": "2020-01-27T08:44:17.062457Z"
    }
   },
   "outputs": [],
   "source": [
    "train_list = os.listdir(train_folder)\n",
    "test_list = os.listdir(test_folder)\n",
    "train_label = pd.read_csv(train_label_path, index_col=0)"
   ]
  },
  {
   "cell_type": "code",
   "execution_count": 4,
   "metadata": {
    "ExecuteTime": {
     "end_time": "2020-01-27T08:44:17.078623Z",
     "start_time": "2020-01-27T08:44:17.076046Z"
    }
   },
   "outputs": [],
   "source": [
    "num_class = len(train_label['label'].unique())"
   ]
  },
  {
   "cell_type": "code",
   "execution_count": 5,
   "metadata": {
    "ExecuteTime": {
     "end_time": "2020-01-27T08:44:17.084732Z",
     "start_time": "2020-01-27T08:44:17.079645Z"
    }
   },
   "outputs": [],
   "source": [
    "# 모든 csv 파일의 상태_B로 변화는 시점이 같다라고 가정\n",
    "# 하지만, 개별 csv파일의 상태_B로 변화는 시점은 상이할 수 있음\n",
    "def data_loader_all_v2(func, files, folder='', train_label=None, event_time=10, nrows=60):   \n",
    "    func_fixed = partial(func, folder=folder, train_label=train_label, event_time=event_time, nrows=nrows)     \n",
    "    if __name__ == '__main__':\n",
    "        pool = Pool(processes=multiprocessing.cpu_count()) \n",
    "        df_list = list(pool.imap(func_fixed, files)) \n",
    "        pool.close()\n",
    "        pool.join()        \n",
    "    combined_df = pd.concat(df_list)    \n",
    "    return combined_df"
   ]
  },
  {
   "cell_type": "code",
   "execution_count": 6,
   "metadata": {
    "ExecuteTime": {
     "end_time": "2020-01-27T08:46:44.415311Z",
     "start_time": "2020-01-27T08:44:17.085826Z"
    }
   },
   "outputs": [],
   "source": [
    "train = data_loader_all_v2(data_loader_v2, train_list, folder=train_folder, train_label=train_label, \n",
    "                           event_time=10, nrows=120)\n"
   ]
  },
  {
   "cell_type": "code",
   "execution_count": 7,
   "metadata": {
    "ExecuteTime": {
     "end_time": "2020-01-27T08:46:46.250769Z",
     "start_time": "2020-01-27T08:46:44.416270Z"
    }
   },
   "outputs": [
    {
     "data": {
      "text/plain": [
       "(91080, 5121)"
      ]
     },
     "execution_count": 7,
     "metadata": {},
     "output_type": "execute_result"
    }
   ],
   "source": [
    "X_train = train.drop(['label'], axis=1)\n",
    "y_train = train['label']\n",
    "X_train.shape"
   ]
  },
  {
   "cell_type": "code",
   "execution_count": 53,
   "metadata": {
    "ExecuteTime": {
     "end_time": "2020-01-27T17:32:19.552401Z",
     "start_time": "2020-01-27T17:32:19.545783Z"
    }
   },
   "outputs": [
    {
     "name": "stdout",
     "output_type": "stream",
     "text": [
      "model_ts 20200128T023219\n",
      "{'num_leaves': 5, 'max_depth': 3, 'num_class': 198, 'objective': 'multiclass', 'metric': 'multi_logloss', 'num_threads': 14, 'learning_rate': 0.01, 'is_unbalance': True, 'bagging_fraction': 0.1, 'bagging_freq': 10, 'feature_fraction': 0.1, 'initscore_filename': ''}\n",
      "{'max_bin': 127}\n",
      "num_round: 500\n"
     ]
    }
   ],
   "source": [
    "model_ts = datetime.now().strftime('%Y%m%dT%H%M%S')\n",
    "print('model_ts', model_ts)\n",
    "\n",
    "initscore_filename = ''\n",
    "params = {\n",
    "#     'boosting':'gbdt',\n",
    "#     'boosting':'dart',\n",
    "#     'boosting':'goss',\n",
    "    'num_leaves': 5, \n",
    "    'max_depth': 3,\n",
    "    'num_class':num_class,\n",
    "    'objective': 'multiclass',\n",
    "    'metric':'multi_logloss',\n",
    "    'num_threads': 14,\n",
    "    'learning_rate': 0.01,\n",
    "    'is_unbalance': True,\n",
    "#     'scale_pos_weight':200,\n",
    "    'bagging_fraction':0.1,\n",
    "    'bagging_freq':10,\n",
    "    'feature_fraction':0.1,\n",
    "    'initscore_filename':initscore_filename,\n",
    "#     'lambda_l1':200,\n",
    "#     'lambda_l2':5,\n",
    "#     'device_type':'gpu',\n",
    "#     'tree_learner':'data',\n",
    "\n",
    "}\n",
    "print(params)\n",
    "\n",
    "data_params = {\n",
    "    'max_bin':127,\n",
    "#     'enable_bundle': False,\n",
    "}\n",
    "print(data_params)\n",
    "\n",
    "num_round = 500\n",
    "print('num_round:', num_round)"
   ]
  },
  {
   "cell_type": "code",
   "execution_count": 55,
   "metadata": {
    "ExecuteTime": {
     "end_time": "2020-01-27T17:32:22.431472Z",
     "start_time": "2020-01-27T17:32:21.457044Z"
    }
   },
   "outputs": [],
   "source": [
    "init_model = joblib.load('model/20200128T022935.model')"
   ]
  },
  {
   "cell_type": "code",
   "execution_count": null,
   "metadata": {},
   "outputs": [],
   "source": []
  },
  {
   "cell_type": "code",
   "execution_count": 56,
   "metadata": {
    "ExecuteTime": {
     "end_time": "2020-01-27T17:32:23.115578Z",
     "start_time": "2020-01-27T17:32:23.113951Z"
    }
   },
   "outputs": [],
   "source": [
    "# 0.02x overfit 0.805803\n",
    "\n",
    "# 0.08323 0.635796\n",
    "# 0.174632 0.727734"
   ]
  },
  {
   "cell_type": "code",
   "execution_count": 64,
   "metadata": {
    "ExecuteTime": {
     "end_time": "2020-01-27T21:26:48.484195Z",
     "start_time": "2020-01-27T17:44:41.827637Z"
    },
    "scrolled": false
   },
   "outputs": [
    {
     "name": "stdout",
     "output_type": "stream",
     "text": [
      "0\n",
      "Training until validation scores don't improve for 300 rounds\n",
      "[1550]\ttraining's multi_logloss: 0.113162\n",
      "[1600]\ttraining's multi_logloss: 0.109926\n",
      "[1650]\ttraining's multi_logloss: 0.106738\n",
      "[1700]\ttraining's multi_logloss: 0.103542\n",
      "[1750]\ttraining's multi_logloss: 0.100775\n",
      "[1800]\ttraining's multi_logloss: 0.0980215\n",
      "[1850]\ttraining's multi_logloss: 0.0952497\n",
      "[1900]\ttraining's multi_logloss: 0.092805\n",
      "[1950]\ttraining's multi_logloss: 0.09035\n",
      "[2000]\ttraining's multi_logloss: 0.0881891\n",
      "Did not meet early stopping. Best iteration is:\n",
      "[2000]\ttraining's multi_logloss: 0.0881891\n",
      "20200128T025414_0.08818913412660236\n",
      "Training until validation scores don't improve for 300 rounds\n",
      "[2050]\ttraining's multi_logloss: 0.0861216\n",
      "[2100]\ttraining's multi_logloss: 0.0842805\n",
      "[2150]\ttraining's multi_logloss: 0.0824029\n",
      "[2200]\ttraining's multi_logloss: 0.0804162\n",
      "[2250]\ttraining's multi_logloss: 0.0787499\n",
      "[2300]\ttraining's multi_logloss: 0.0770176\n",
      "[2350]\ttraining's multi_logloss: 0.0752593\n",
      "[2400]\ttraining's multi_logloss: 0.0737126\n",
      "[2450]\ttraining's multi_logloss: 0.0721887\n",
      "[2500]\ttraining's multi_logloss: 0.0708285\n",
      "Did not meet early stopping. Best iteration is:\n",
      "[2500]\ttraining's multi_logloss: 0.0708285\n",
      "20200128T030912_0.07082848242463455\n",
      "2\n",
      "Training until validation scores don't improve for 300 rounds\n",
      "[2550]\ttraining's multi_logloss: 0.0694553\n",
      "[2600]\ttraining's multi_logloss: 0.0682535\n",
      "[2650]\ttraining's multi_logloss: 0.0670129\n",
      "[2700]\ttraining's multi_logloss: 0.0656591\n",
      "[2750]\ttraining's multi_logloss: 0.0645076\n",
      "[2800]\ttraining's multi_logloss: 0.0632773\n",
      "[2850]\ttraining's multi_logloss: 0.0620347\n",
      "[2900]\ttraining's multi_logloss: 0.0609689\n",
      "[2950]\ttraining's multi_logloss: 0.0599181\n",
      "[3000]\ttraining's multi_logloss: 0.0589609\n",
      "Did not meet early stopping. Best iteration is:\n",
      "[3000]\ttraining's multi_logloss: 0.0589609\n",
      "20200128T032607_0.05896088531452224\n",
      "3\n",
      "Training until validation scores don't improve for 300 rounds\n",
      "[3050]\ttraining's multi_logloss: 0.0579294\n",
      "[3100]\ttraining's multi_logloss: 0.0571066\n",
      "[3150]\ttraining's multi_logloss: 0.0562364\n",
      "[3200]\ttraining's multi_logloss: 0.0552283\n",
      "[3250]\ttraining's multi_logloss: 0.0543996\n",
      "[3300]\ttraining's multi_logloss: 0.0535043\n",
      "[3350]\ttraining's multi_logloss: 0.0525786\n",
      "[3400]\ttraining's multi_logloss: 0.0517949\n",
      "[3450]\ttraining's multi_logloss: 0.0510041\n",
      "[3500]\ttraining's multi_logloss: 0.0502829\n",
      "Did not meet early stopping. Best iteration is:\n",
      "[3500]\ttraining's multi_logloss: 0.0502829\n",
      "20200128T034443_0.0502828605482319\n",
      "4\n",
      "Training until validation scores don't improve for 300 rounds\n",
      "[3550]\ttraining's multi_logloss: 0.0495081\n",
      "[3600]\ttraining's multi_logloss: 0.0488741\n",
      "[3650]\ttraining's multi_logloss: 0.0482103\n",
      "[3700]\ttraining's multi_logloss: 0.0473947\n",
      "[3750]\ttraining's multi_logloss: 0.0467525\n",
      "[3800]\ttraining's multi_logloss: 0.0461089\n",
      "[3850]\ttraining's multi_logloss: 0.0453867\n",
      "[3900]\ttraining's multi_logloss: 0.0447837\n",
      "[3950]\ttraining's multi_logloss: 0.0441778\n",
      "[4000]\ttraining's multi_logloss: 0.0436363\n",
      "Did not meet early stopping. Best iteration is:\n",
      "[4000]\ttraining's multi_logloss: 0.0436363\n",
      "20200128T040520_0.04363626162324834\n",
      "5\n",
      "[4150]\ttraining's multi_logloss: 0.0420096\n",
      "[4200]\ttraining's multi_logloss: 0.0413709\n",
      "[4250]\ttraining's multi_logloss: 0.0408813\n",
      "[4300]\ttraining's multi_logloss: 0.0403981\n",
      "[4350]\ttraining's multi_logloss: 0.039824\n",
      "[4400]\ttraining's multi_logloss: 0.0393686\n",
      "[4450]\ttraining's multi_logloss: 0.0389174\n",
      "[4500]\ttraining's multi_logloss: 0.0384872\n",
      "Did not meet early stopping. Best iteration is:\n",
      "[4500]\ttraining's multi_logloss: 0.0384872\n",
      "20200128T042755_0.03848718989668357\n",
      "6\n",
      "Training until validation scores don't improve for 300 rounds\n",
      "[4550]\ttraining's multi_logloss: 0.0380087\n",
      "[4600]\ttraining's multi_logloss: 0.0376225\n",
      "[4650]\ttraining's multi_logloss: 0.0371968\n",
      "[4700]\ttraining's multi_logloss: 0.0366972\n",
      "[4750]\ttraining's multi_logloss: 0.0362984\n",
      "[4800]\ttraining's multi_logloss: 0.0359244\n",
      "[4850]\ttraining's multi_logloss: 0.0354692\n",
      "[4900]\ttraining's multi_logloss: 0.0350961\n",
      "[4950]\ttraining's multi_logloss: 0.0347461\n",
      "[5000]\ttraining's multi_logloss: 0.034403\n",
      "Did not meet early stopping. Best iteration is:\n",
      "[5000]\ttraining's multi_logloss: 0.034403\n",
      "20200128T045224_0.034402989792196206\n",
      "7\n",
      "Training until validation scores don't improve for 300 rounds\n",
      "[5050]\ttraining's multi_logloss: 0.0340088\n",
      "[5100]\ttraining's multi_logloss: 0.0337002\n",
      "[5150]\ttraining's multi_logloss: 0.0333809\n",
      "[5200]\ttraining's multi_logloss: 0.0329865\n",
      "[5250]\ttraining's multi_logloss: 0.0326704\n",
      "[5300]\ttraining's multi_logloss: 0.0323648\n",
      "[5350]\ttraining's multi_logloss: 0.0319817\n",
      "[5400]\ttraining's multi_logloss: 0.0316883\n",
      "[5450]\ttraining's multi_logloss: 0.031381\n",
      "[5500]\ttraining's multi_logloss: 0.0311022\n",
      "Did not meet early stopping. Best iteration is:\n",
      "[5500]\ttraining's multi_logloss: 0.0311022\n",
      "20200128T051843_0.031102180487934776\n",
      "Training until validation scores don't improve for 300 rounds\n",
      "[5550]\ttraining's multi_logloss: 0.0307932\n",
      "[5600]\ttraining's multi_logloss: 0.0305381\n",
      "[5650]\ttraining's multi_logloss: 0.0302836\n",
      "[5700]\ttraining's multi_logloss: 0.0299448\n",
      "[5750]\ttraining's multi_logloss: 0.0297049\n",
      "[5800]\ttraining's multi_logloss: 0.0294535\n",
      "[5850]\ttraining's multi_logloss: 0.0291223\n",
      "[5900]\ttraining's multi_logloss: 0.0288803\n",
      "[5950]\ttraining's multi_logloss: 0.0286365\n",
      "[6000]\ttraining's multi_logloss: 0.0284236\n",
      "Did not meet early stopping. Best iteration is:\n",
      "[6000]\ttraining's multi_logloss: 0.0284236\n",
      "20200128T054720_0.028423555179682862\n",
      "9\n",
      "Training until validation scores don't improve for 300 rounds\n",
      "[6050]\ttraining's multi_logloss: 0.0281699\n",
      "[6100]\ttraining's multi_logloss: 0.0279666\n",
      "[6150]\ttraining's multi_logloss: 0.0277652\n",
      "[6200]\ttraining's multi_logloss: 0.0274803\n",
      "[6250]\ttraining's multi_logloss: 0.0272993\n",
      "[6300]\ttraining's multi_logloss: 0.027102\n",
      "[6350]\ttraining's multi_logloss: 0.0268331\n",
      "[6400]\ttraining's multi_logloss: 0.0266303\n",
      "[6450]\ttraining's multi_logloss: 0.0264362\n",
      "[6500]\ttraining's multi_logloss: 0.0262614\n",
      "Did not meet early stopping. Best iteration is:\n",
      "[6500]\ttraining's multi_logloss: 0.0262614\n",
      "20200128T061737_0.02626139729071579\n"
     ]
    }
   ],
   "source": [
    "for i in range(10):\n",
    "    print(i)\n",
    "    train_set = lgb.Dataset(X_train, label=y_train, params=data_params)\n",
    "\n",
    "    evals_result = {}\n",
    "    model = lgb.train(params, train_set, num_round, early_stopping_rounds=300, \n",
    "                            valid_sets=[train_set],\n",
    "                            verbose_eval=50,\n",
    "                              evals_result=evals_result,\n",
    "                            init_model=model,\n",
    "                           )\n",
    "\n",
    "    # evals_result['training']['multi_logloss'][-1]\n",
    "\n",
    "    model_tag ='{}_{}'.format(datetime.now().strftime('%Y%m%dT%H%M%S'), evals_result['training']['multi_logloss'][-1])\n",
    "    print(model_tag)\n",
    "\n",
    "    joblib.dump(model, 'model/{}.model'.format(model_tag))\n",
    "\n",
    "    test = data_loader_all_v2(data_loader_v2, test_list, folder=test_folder, train_label=None, event_time=10, nrows=None)\n",
    "\n",
    "    pred = model.predict(test)\n",
    "\n",
    "    submission = pd.DataFrame(data=pred)\n",
    "    submission.index = test.index\n",
    "    submission.index.name = 'id'\n",
    "    submission = submission.sort_index()\n",
    "    submission = submission.groupby('id').mean()\n",
    "\n",
    "    submission.to_csv('submit/{}.csv'.format(model_tag), index=True) \n",
    "    model_tag"
   ]
  },
  {
   "cell_type": "code",
   "execution_count": null,
   "metadata": {},
   "outputs": [],
   "source": []
  }
 ],
 "metadata": {
  "kernelspec": {
   "display_name": "Python 3",
   "language": "python",
   "name": "python3"
  },
  "language_info": {
   "codemirror_mode": {
    "name": "ipython",
    "version": 3
   },
   "file_extension": ".py",
   "mimetype": "text/x-python",
   "name": "python",
   "nbconvert_exporter": "python",
   "pygments_lexer": "ipython3",
   "version": "3.7.4"
  },
  "toc": {
   "base_numbering": 1,
   "nav_menu": {},
   "number_sections": true,
   "sideBar": true,
   "skip_h1_title": false,
   "title_cell": "Table of Contents",
   "title_sidebar": "Contents",
   "toc_cell": false,
   "toc_position": {},
   "toc_section_display": true,
   "toc_window_display": false
  }
 },
 "nbformat": 4,
 "nbformat_minor": 2
}
